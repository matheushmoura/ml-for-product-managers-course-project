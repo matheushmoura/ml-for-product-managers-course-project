{
  "nbformat": 4,
  "nbformat_minor": 0,
  "metadata": {
    "colab": {
      "provenance": []
    },
    "kernelspec": {
      "name": "python3",
      "display_name": "Python 3"
    },
    "language_info": {
      "name": "python"
    }
  },
  "cells": [
    {
      "cell_type": "markdown",
      "source": [
        "In this project we will build a model to predict the electrical energy output of a\n",
        "Combined Cycle Power Plant\n",
        ", which uses a combination of gas turbines, steam turbines, and heat recovery steam generators to generate power.  We have a set of 9568 hourly average ambient environmental readings from sensors at the power plant which we will use in our model.\n",
        "\n",
        "The columns in the data consist of hourly average ambient variables:\n",
        "- Temperature (T) in the range 1.81°C to 37.11°C,\n",
        "- Ambient Pressure (AP) in the range 992.89-1033.30 milibar,\n",
        "- Relative Humidity (RH) in the range 25.56% to 100.16%\n",
        "- Exhaust Vacuum (V) in the range 25.36-81.56 cm Hg\n",
        "- Net hourly electrical energy output (PE) 420.26-495.76 MW (Target we are trying to predict)"
      ],
      "metadata": {
        "id": "pfT0IG_w3SO9"
      }
    },
    {
      "cell_type": "code",
      "execution_count": 10,
      "metadata": {
        "colab": {
          "base_uri": "https://localhost:8080/"
        },
        "id": "XB6btqXt1dkg",
        "outputId": "967bf1c8-3000-4b17-8fcc-7c8e1a2188da"
      },
      "outputs": [
        {
          "output_type": "stream",
          "name": "stdout",
          "text": [
            "Drive already mounted at /content/drive; to attempt to forcibly remount, call drive.mount(\"/content/drive\", force_remount=True).\n"
          ]
        }
      ],
      "source": [
        "import pandas as pd\n",
        "import numpy as np\n",
        "from sklearn.model_selection import train_test_split, cross_val_score\n",
        "from sklearn.preprocessing import StandardScaler\n",
        "from sklearn.linear_model import LinearRegression\n",
        "from sklearn.ensemble import RandomForestRegressor\n",
        "from sklearn.metrics import mean_squared_error, mean_absolute_error\n",
        "import matplotlib.pyplot as plt\n",
        "from google.colab import drive\n",
        "drive.mount('/content/drive')"
      ]
    },
    {
      "cell_type": "code",
      "source": [
        "data = pd.read_csv('/content/drive/MyDrive/CCPP_data.csv')\n",
        "print(data.head())\n",
        "print(data.describe())"
      ],
      "metadata": {
        "colab": {
          "base_uri": "https://localhost:8080/"
        },
        "id": "enelxGty2NWF",
        "outputId": "057774e7-2681-450a-a2f0-dc407b2a7379"
      },
      "execution_count": 11,
      "outputs": [
        {
          "output_type": "stream",
          "name": "stdout",
          "text": [
            "      AT      V       AP     RH      PE\n",
            "0  14.96  41.76  1024.07  73.17  463.26\n",
            "1  25.18  62.96  1020.04  59.08  444.37\n",
            "2   5.11  39.40  1012.16  92.14  488.56\n",
            "3  20.86  57.32  1010.24  76.64  446.48\n",
            "4  10.82  37.50  1009.23  96.62  473.90\n",
            "                AT            V           AP           RH           PE\n",
            "count  9568.000000  9568.000000  9568.000000  9568.000000  9568.000000\n",
            "mean     19.651231    54.305804  1013.259078    73.308978   454.365009\n",
            "std       7.452473    12.707893     5.938784    14.600269    17.066995\n",
            "min       1.810000    25.360000   992.890000    25.560000   420.260000\n",
            "25%      13.510000    41.740000  1009.100000    63.327500   439.750000\n",
            "50%      20.345000    52.080000  1012.940000    74.975000   451.550000\n",
            "75%      25.720000    66.540000  1017.260000    84.830000   468.430000\n",
            "max      37.110000    81.560000  1033.300000   100.160000   495.760000\n"
          ]
        }
      ]
    },
    {
      "cell_type": "code",
      "source": [
        "X = data[['AT', 'AP', 'RH', 'V']]\n",
        "y = data['PE']\n",
        "X_train, X_test, y_train, y_test = train_test_split(X, y, test_size=0.2, random_state=42)\n",
        "\n",
        "scaler = StandardScaler()\n",
        "X_train_scaled = scaler.fit_transform(X_train)\n",
        "X_test_scaled = scaler.transform(X_test)"
      ],
      "metadata": {
        "id": "_dfuIelm2LOm"
      },
      "execution_count": 12,
      "outputs": []
    },
    {
      "cell_type": "markdown",
      "source": [
        "Model 1: Linear Regression"
      ],
      "metadata": {
        "id": "lWrsVia21-BP"
      }
    },
    {
      "cell_type": "code",
      "source": [
        "linear_model = LinearRegression()\n",
        "linear_model.fit(X_train_scaled, y_train)\n",
        "y_pred_linear = linear_model.predict(X_test_scaled)"
      ],
      "metadata": {
        "id": "yl5KL0jY15lH"
      },
      "execution_count": 13,
      "outputs": []
    },
    {
      "cell_type": "markdown",
      "source": [
        "Model 2: Random Forest"
      ],
      "metadata": {
        "id": "gfU7OJqA17bm"
      }
    },
    {
      "cell_type": "code",
      "source": [
        "random_forest_model = RandomForestRegressor(n_estimators=100, random_state=42)\n",
        "random_forest_model.fit(X_train, y_train)\n",
        "y_pred_rf = random_forest_model.predict(X_test)"
      ],
      "metadata": {
        "id": "YhFxfn0j15xr"
      },
      "execution_count": 14,
      "outputs": []
    },
    {
      "cell_type": "markdown",
      "source": [
        "Choosing the best model (lower MAE)"
      ],
      "metadata": {
        "id": "uM4xZwSY2Qan"
      }
    },
    {
      "cell_type": "code",
      "source": [
        "linear_mae = mean_absolute_error(y_test, y_pred_linear)\n",
        "rf_mae = mean_absolute_error(y_test, y_pred_rf)\n",
        "\n",
        "print(f\"Mean Absolute Error - Linear Regression: {linear_mae}\")\n",
        "print(f\"Mean Absolute Error - Random Forest: {rf_mae}\")\n",
        "\n",
        "if linear_mae < rf_mae:\n",
        "    print(\"Linear Regression is the best model.\")\n",
        "    best_model = linear_model\n",
        "else:\n",
        "    print(\"Random Forest is the best model.\")\n",
        "    best_model = random_forest_model"
      ],
      "metadata": {
        "colab": {
          "base_uri": "https://localhost:8080/"
        },
        "id": "giE7ujuB11R4",
        "outputId": "452e0304-1fc4-4564-f0ce-98c9bfc37fc2"
      },
      "execution_count": 15,
      "outputs": [
        {
          "output_type": "stream",
          "name": "stdout",
          "text": [
            "Mean Absolute Error - Linear Regression: 3.595913178273408\n",
            "Mean Absolute Error - Random Forest: 2.3277773249738707\n",
            "Random Forest is the best model.\n"
          ]
        }
      ]
    },
    {
      "cell_type": "markdown",
      "source": [
        "Evaluating the best model with Mean Squared Error (MSE)"
      ],
      "metadata": {
        "id": "oQJxcT132XHA"
      }
    },
    {
      "cell_type": "code",
      "source": [
        "y_pred_best = best_model.predict(X_test_scaled if best_model == linear_model else X_test)\n",
        "mse_best = mean_squared_error(y_test, y_pred_best)\n",
        "print(f\"Mean Squared Error of the best model: {mse_best}\")"
      ],
      "metadata": {
        "colab": {
          "base_uri": "https://localhost:8080/"
        },
        "id": "6HhLfqP91wYH",
        "outputId": "8ad5a91d-55da-4cf7-8ed0-c1e2a79b05e3"
      },
      "execution_count": 16,
      "outputs": [
        {
          "output_type": "stream",
          "name": "stdout",
          "text": [
            "Mean Squared Error of the best model: 10.520886302664499\n"
          ]
        }
      ]
    },
    {
      "cell_type": "markdown",
      "source": [
        "Visualizing the predictions of the best model"
      ],
      "metadata": {
        "id": "I1R3y9Gp2ewE"
      }
    },
    {
      "cell_type": "code",
      "source": [
        "plt.scatter(y_test, y_pred_best)\n",
        "plt.xlabel('Actual Values')\n",
        "plt.ylabel('Predicted Values')\n",
        "plt.title('Predictions vs Actual Values - Best Model')\n",
        "plt.show()"
      ],
      "metadata": {
        "colab": {
          "base_uri": "https://localhost:8080/",
          "height": 472
        },
        "id": "iR3ZKL4Y2g2c",
        "outputId": "6ab48032-2c79-416d-b43a-0b65dae8b545"
      },
      "execution_count": 17,
      "outputs": [
        {
          "output_type": "display_data",
          "data": {
            "text/plain": [
              "<Figure size 640x480 with 1 Axes>"
            ],
            "image/png": "[encoded data removed]"
          },
          "metadata": {}
        }
      ]
    }
  ]
}